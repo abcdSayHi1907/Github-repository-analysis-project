{
 "cells": [
  {
   "cell_type": "markdown",
   "id": "0eafc1a1-a6f0-4368-9d41-ae20cafd2957",
   "metadata": {},
   "source": [
    "# Phân tích commits của repository"
   ]
  },
  {
   "cell_type": "markdown",
   "id": "964ea65c-868c-485a-9c23-6cb214b0bb5e",
   "metadata": {},
   "source": [
    "## Đọc và tiền xử lý dữ liệu"
   ]
  },
  {
   "cell_type": "code",
   "execution_count": 64,
   "id": "c54790a0-6aa4-4e2f-bc12-074701842038",
   "metadata": {},
   "outputs": [
    {
     "data": {
      "text/html": [
       "<div>\n",
       "<style scoped>\n",
       "    .dataframe tbody tr th:only-of-type {\n",
       "        vertical-align: middle;\n",
       "    }\n",
       "\n",
       "    .dataframe tbody tr th {\n",
       "        vertical-align: top;\n",
       "    }\n",
       "\n",
       "    .dataframe thead th {\n",
       "        text-align: right;\n",
       "    }\n",
       "</style>\n",
       "<table border=\"1\" class=\"dataframe\">\n",
       "  <thead>\n",
       "    <tr style=\"text-align: right;\">\n",
       "      <th></th>\n",
       "      <th>Commit ID</th>\n",
       "      <th>Date</th>\n",
       "      <th>Author</th>\n",
       "      <th>Commit Message</th>\n",
       "      <th>File Changed</th>\n",
       "    </tr>\n",
       "  </thead>\n",
       "  <tbody>\n",
       "    <tr>\n",
       "      <th>0</th>\n",
       "      <td>5a545dde7dccee9c3067585ecd237e742deed698</td>\n",
       "      <td>2024-06-12 18:49:14</td>\n",
       "      <td>Lawrence Mitchell</td>\n",
       "      <td>Pre-clean docstrings when running EmbedSignatu...</td>\n",
       "      <td>['Cython/Compiler/AutoDocTransforms.py', 'test...</td>\n",
       "    </tr>\n",
       "    <tr>\n",
       "      <th>1</th>\n",
       "      <td>50fb5cf1c220c0ecf9440d56612ffc8948e8e22e</td>\n",
       "      <td>2024-06-09 08:53:09</td>\n",
       "      <td>da-woods</td>\n",
       "      <td>Remove some more unused Py2 code (GH-6233)</td>\n",
       "      <td>['Cython/Compiler/ModuleNode.py', 'Cython/Util...</td>\n",
       "    </tr>\n",
       "    <tr>\n",
       "      <th>2</th>\n",
       "      <td>bcef509b6af6eea6c21f84abfbcdc1e61f455e4b</td>\n",
       "      <td>2024-06-07 18:35:47</td>\n",
       "      <td>Lysandros Nikolaou</td>\n",
       "      <td>Set up uploading non-compiled nightly wheels t...</td>\n",
       "      <td>['.github/workflows/nightly-wheels.yml']</td>\n",
       "    </tr>\n",
       "    <tr>\n",
       "      <th>3</th>\n",
       "      <td>52528da1a7899a459252041a694bcf0a78f7f5cd</td>\n",
       "      <td>2024-06-06 19:42:17</td>\n",
       "      <td>Michael Man</td>\n",
       "      <td>Fix segfault on zero-length slice assignment o...</td>\n",
       "      <td>['Cython/Utility/MemoryView.pyx', 'tests/memor...</td>\n",
       "    </tr>\n",
       "    <tr>\n",
       "      <th>4</th>\n",
       "      <td>965d7aa3485b8ba0497803c5b54cacf3f4acdbb0</td>\n",
       "      <td>2024-06-04 06:19:01</td>\n",
       "      <td>da-woods</td>\n",
       "      <td>Get basic generators running in Limited API (#...</td>\n",
       "      <td>['Cython/Utility/Coroutine.c', 'Cython/Utility...</td>\n",
       "    </tr>\n",
       "  </tbody>\n",
       "</table>\n",
       "</div>"
      ],
      "text/plain": [
       "                                  Commit ID                 Date  \\\n",
       "0  5a545dde7dccee9c3067585ecd237e742deed698  2024-06-12 18:49:14   \n",
       "1  50fb5cf1c220c0ecf9440d56612ffc8948e8e22e  2024-06-09 08:53:09   \n",
       "2  bcef509b6af6eea6c21f84abfbcdc1e61f455e4b  2024-06-07 18:35:47   \n",
       "3  52528da1a7899a459252041a694bcf0a78f7f5cd  2024-06-06 19:42:17   \n",
       "4  965d7aa3485b8ba0497803c5b54cacf3f4acdbb0  2024-06-04 06:19:01   \n",
       "\n",
       "               Author                                     Commit Message  \\\n",
       "0   Lawrence Mitchell  Pre-clean docstrings when running EmbedSignatu...   \n",
       "1            da-woods         Remove some more unused Py2 code (GH-6233)   \n",
       "2  Lysandros Nikolaou  Set up uploading non-compiled nightly wheels t...   \n",
       "3         Michael Man  Fix segfault on zero-length slice assignment o...   \n",
       "4            da-woods  Get basic generators running in Limited API (#...   \n",
       "\n",
       "                                        File Changed  \n",
       "0  ['Cython/Compiler/AutoDocTransforms.py', 'test...  \n",
       "1  ['Cython/Compiler/ModuleNode.py', 'Cython/Util...  \n",
       "2           ['.github/workflows/nightly-wheels.yml']  \n",
       "3  ['Cython/Utility/MemoryView.pyx', 'tests/memor...  \n",
       "4  ['Cython/Utility/Coroutine.c', 'Cython/Utility...  "
      ]
     },
     "execution_count": 64,
     "metadata": {},
     "output_type": "execute_result"
    }
   ],
   "source": [
    "import pandas as pd\n",
    "import numpy as np\n",
    "import matplotlib.pyplot as plt\n",
    "import seaborn as sns\n",
    "from datetime import datetime as dt\n",
    "\n",
    "df = pd.read_csv('commits_data.csv')\n",
    "df.head()"
   ]
  },
  {
   "cell_type": "code",
   "execution_count": 65,
   "id": "b08d6a58-5c7e-4e0b-af09-c4a0b53e63b5",
   "metadata": {},
   "outputs": [
    {
     "data": {
      "text/plain": [
       "(3249, 5)"
      ]
     },
     "execution_count": 65,
     "metadata": {},
     "output_type": "execute_result"
    }
   ],
   "source": [
    "df.shape"
   ]
  },
  {
   "cell_type": "code",
   "execution_count": 66,
   "id": "ad1f5d3e-c273-4c3b-8f86-fa133426a401",
   "metadata": {},
   "outputs": [
    {
     "name": "stdout",
     "output_type": "stream",
     "text": [
      "<class 'pandas.core.frame.DataFrame'>\n",
      "RangeIndex: 3249 entries, 0 to 3248\n",
      "Data columns (total 5 columns):\n",
      " #   Column          Non-Null Count  Dtype \n",
      "---  ------          --------------  ----- \n",
      " 0   Commit ID       3248 non-null   object\n",
      " 1   Date            3249 non-null   object\n",
      " 2   Author          3249 non-null   object\n",
      " 3   Commit Message  3249 non-null   object\n",
      " 4   File Changed    3249 non-null   object\n",
      "dtypes: object(5)\n",
      "memory usage: 127.0+ KB\n"
     ]
    }
   ],
   "source": [
    "df.info()"
   ]
  },
  {
   "cell_type": "code",
   "execution_count": 67,
   "id": "66ae891e-e4bb-4078-80ce-79f8347822ac",
   "metadata": {},
   "outputs": [
    {
     "data": {
      "text/html": [
       "<div>\n",
       "<style scoped>\n",
       "    .dataframe tbody tr th:only-of-type {\n",
       "        vertical-align: middle;\n",
       "    }\n",
       "\n",
       "    .dataframe tbody tr th {\n",
       "        vertical-align: top;\n",
       "    }\n",
       "\n",
       "    .dataframe thead th {\n",
       "        text-align: right;\n",
       "    }\n",
       "</style>\n",
       "<table border=\"1\" class=\"dataframe\">\n",
       "  <thead>\n",
       "    <tr style=\"text-align: right;\">\n",
       "      <th></th>\n",
       "      <th>Commit ID</th>\n",
       "      <th>Date</th>\n",
       "      <th>Author</th>\n",
       "      <th>Commit Message</th>\n",
       "      <th>File Changed</th>\n",
       "      <th>Year</th>\n",
       "      <th>Month</th>\n",
       "    </tr>\n",
       "  </thead>\n",
       "  <tbody>\n",
       "    <tr>\n",
       "      <th>0</th>\n",
       "      <td>5a545dde7dccee9c3067585ecd237e742deed698</td>\n",
       "      <td>2024-06-12 18:49:14</td>\n",
       "      <td>Lawrence Mitchell</td>\n",
       "      <td>Pre-clean docstrings when running EmbedSignatu...</td>\n",
       "      <td>['Cython/Compiler/AutoDocTransforms.py', 'test...</td>\n",
       "      <td>2024</td>\n",
       "      <td>6</td>\n",
       "    </tr>\n",
       "    <tr>\n",
       "      <th>1</th>\n",
       "      <td>50fb5cf1c220c0ecf9440d56612ffc8948e8e22e</td>\n",
       "      <td>2024-06-09 08:53:09</td>\n",
       "      <td>da-woods</td>\n",
       "      <td>Remove some more unused Py2 code (GH-6233)</td>\n",
       "      <td>['Cython/Compiler/ModuleNode.py', 'Cython/Util...</td>\n",
       "      <td>2024</td>\n",
       "      <td>6</td>\n",
       "    </tr>\n",
       "    <tr>\n",
       "      <th>2</th>\n",
       "      <td>bcef509b6af6eea6c21f84abfbcdc1e61f455e4b</td>\n",
       "      <td>2024-06-07 18:35:47</td>\n",
       "      <td>Lysandros Nikolaou</td>\n",
       "      <td>Set up uploading non-compiled nightly wheels t...</td>\n",
       "      <td>['.github/workflows/nightly-wheels.yml']</td>\n",
       "      <td>2024</td>\n",
       "      <td>6</td>\n",
       "    </tr>\n",
       "    <tr>\n",
       "      <th>3</th>\n",
       "      <td>52528da1a7899a459252041a694bcf0a78f7f5cd</td>\n",
       "      <td>2024-06-06 19:42:17</td>\n",
       "      <td>Michael Man</td>\n",
       "      <td>Fix segfault on zero-length slice assignment o...</td>\n",
       "      <td>['Cython/Utility/MemoryView.pyx', 'tests/memor...</td>\n",
       "      <td>2024</td>\n",
       "      <td>6</td>\n",
       "    </tr>\n",
       "    <tr>\n",
       "      <th>4</th>\n",
       "      <td>965d7aa3485b8ba0497803c5b54cacf3f4acdbb0</td>\n",
       "      <td>2024-06-04 06:19:01</td>\n",
       "      <td>da-woods</td>\n",
       "      <td>Get basic generators running in Limited API (#...</td>\n",
       "      <td>['Cython/Utility/Coroutine.c', 'Cython/Utility...</td>\n",
       "      <td>2024</td>\n",
       "      <td>6</td>\n",
       "    </tr>\n",
       "  </tbody>\n",
       "</table>\n",
       "</div>"
      ],
      "text/plain": [
       "                                  Commit ID                Date  \\\n",
       "0  5a545dde7dccee9c3067585ecd237e742deed698 2024-06-12 18:49:14   \n",
       "1  50fb5cf1c220c0ecf9440d56612ffc8948e8e22e 2024-06-09 08:53:09   \n",
       "2  bcef509b6af6eea6c21f84abfbcdc1e61f455e4b 2024-06-07 18:35:47   \n",
       "3  52528da1a7899a459252041a694bcf0a78f7f5cd 2024-06-06 19:42:17   \n",
       "4  965d7aa3485b8ba0497803c5b54cacf3f4acdbb0 2024-06-04 06:19:01   \n",
       "\n",
       "               Author                                     Commit Message  \\\n",
       "0   Lawrence Mitchell  Pre-clean docstrings when running EmbedSignatu...   \n",
       "1            da-woods         Remove some more unused Py2 code (GH-6233)   \n",
       "2  Lysandros Nikolaou  Set up uploading non-compiled nightly wheels t...   \n",
       "3         Michael Man  Fix segfault on zero-length slice assignment o...   \n",
       "4            da-woods  Get basic generators running in Limited API (#...   \n",
       "\n",
       "                                        File Changed  Year  Month  \n",
       "0  ['Cython/Compiler/AutoDocTransforms.py', 'test...  2024      6  \n",
       "1  ['Cython/Compiler/ModuleNode.py', 'Cython/Util...  2024      6  \n",
       "2           ['.github/workflows/nightly-wheels.yml']  2024      6  \n",
       "3  ['Cython/Utility/MemoryView.pyx', 'tests/memor...  2024      6  \n",
       "4  ['Cython/Utility/Coroutine.c', 'Cython/Utility...  2024      6  "
      ]
     },
     "execution_count": 67,
     "metadata": {},
     "output_type": "execute_result"
    }
   ],
   "source": [
    "df['Date'] = pd.to_datetime(df['Date'])\n",
    "df['Year'] = df['Date'].dt.year\n",
    "df['Month'] = df['Date'].dt.month\n",
    "df.head()"
   ]
  },
  {
   "cell_type": "code",
   "execution_count": 68,
   "id": "d9020757-3ab7-4049-8948-dc495b34048e",
   "metadata": {},
   "outputs": [
    {
     "data": {
      "text/html": [
       "<div>\n",
       "<style scoped>\n",
       "    .dataframe tbody tr th:only-of-type {\n",
       "        vertical-align: middle;\n",
       "    }\n",
       "\n",
       "    .dataframe tbody tr th {\n",
       "        vertical-align: top;\n",
       "    }\n",
       "\n",
       "    .dataframe thead th {\n",
       "        text-align: right;\n",
       "    }\n",
       "</style>\n",
       "<table border=\"1\" class=\"dataframe\">\n",
       "  <thead>\n",
       "    <tr style=\"text-align: right;\">\n",
       "      <th></th>\n",
       "      <th>Commit ID</th>\n",
       "      <th>Date</th>\n",
       "      <th>Author</th>\n",
       "      <th>Commit Message</th>\n",
       "      <th>File Changed</th>\n",
       "      <th>Year</th>\n",
       "      <th>Month</th>\n",
       "    </tr>\n",
       "  </thead>\n",
       "  <tbody>\n",
       "    <tr>\n",
       "      <th>3210</th>\n",
       "      <td>9a53c8ac9a9438822dd1659fee4ae478953ce38a</td>\n",
       "      <td>2020-01-08 10:54:52</td>\n",
       "      <td>Stefan Behnel</td>\n",
       "      <td>Merge branch '0.29.x'</td>\n",
       "      <td>['tests/run/generators.pyx']</td>\n",
       "      <td>2020</td>\n",
       "      <td>1</td>\n",
       "    </tr>\n",
       "    <tr>\n",
       "      <th>3211</th>\n",
       "      <td>c4a5b6ace3b50f14abd067127fe76d65ba961091</td>\n",
       "      <td>2020-01-08 10:53:02</td>\n",
       "      <td>Stefan Behnel</td>\n",
       "      <td>Test cleanups.</td>\n",
       "      <td>['tests/run/generators.pyx']</td>\n",
       "      <td>2020</td>\n",
       "      <td>1</td>\n",
       "    </tr>\n",
       "    <tr>\n",
       "      <th>3212</th>\n",
       "      <td>83e4a348992a1a90231639a4d31d0e827cb13732</td>\n",
       "      <td>2020-01-08 10:44:20</td>\n",
       "      <td>da-woods</td>\n",
       "      <td>Fixed handling of kwds in generator closures (...</td>\n",
       "      <td>['Cython/Compiler/Nodes.py', 'tests/run/genera...</td>\n",
       "      <td>2020</td>\n",
       "      <td>1</td>\n",
       "    </tr>\n",
       "    <tr>\n",
       "      <th>3213</th>\n",
       "      <td>c2d76d3201603385d4d9d4780e1f0257056e8363</td>\n",
       "      <td>2020-01-08 10:44:20</td>\n",
       "      <td>da-woods</td>\n",
       "      <td>Fixed handling of kwds in generator closures (...</td>\n",
       "      <td>['Cython/Compiler/Nodes.py', 'tests/run/genera...</td>\n",
       "      <td>2020</td>\n",
       "      <td>1</td>\n",
       "    </tr>\n",
       "    <tr>\n",
       "      <th>3214</th>\n",
       "      <td>dd64445f7b74338e911ead8c566e939a2d62cf52</td>\n",
       "      <td>2020-01-08 10:41:02</td>\n",
       "      <td>da-woods</td>\n",
       "      <td>Remove unnecessary sentence from documentation...</td>\n",
       "      <td>['docs/src/quickstart/install.rst']</td>\n",
       "      <td>2020</td>\n",
       "      <td>1</td>\n",
       "    </tr>\n",
       "  </tbody>\n",
       "</table>\n",
       "</div>"
      ],
      "text/plain": [
       "                                     Commit ID                Date  \\\n",
       "3210  9a53c8ac9a9438822dd1659fee4ae478953ce38a 2020-01-08 10:54:52   \n",
       "3211  c4a5b6ace3b50f14abd067127fe76d65ba961091 2020-01-08 10:53:02   \n",
       "3212  83e4a348992a1a90231639a4d31d0e827cb13732 2020-01-08 10:44:20   \n",
       "3213  c2d76d3201603385d4d9d4780e1f0257056e8363 2020-01-08 10:44:20   \n",
       "3214  dd64445f7b74338e911ead8c566e939a2d62cf52 2020-01-08 10:41:02   \n",
       "\n",
       "             Author                                     Commit Message  \\\n",
       "3210  Stefan Behnel                              Merge branch '0.29.x'   \n",
       "3211  Stefan Behnel                                     Test cleanups.   \n",
       "3212       da-woods  Fixed handling of kwds in generator closures (...   \n",
       "3213       da-woods  Fixed handling of kwds in generator closures (...   \n",
       "3214       da-woods  Remove unnecessary sentence from documentation...   \n",
       "\n",
       "                                           File Changed  Year  Month  \n",
       "3210                       ['tests/run/generators.pyx']  2020      1  \n",
       "3211                       ['tests/run/generators.pyx']  2020      1  \n",
       "3212  ['Cython/Compiler/Nodes.py', 'tests/run/genera...  2020      1  \n",
       "3213  ['Cython/Compiler/Nodes.py', 'tests/run/genera...  2020      1  \n",
       "3214                ['docs/src/quickstart/install.rst']  2020      1  "
      ]
     },
     "execution_count": 68,
     "metadata": {},
     "output_type": "execute_result"
    }
   ],
   "source": [
    "# Get data from 2020 to now\n",
    "df = df[df['Year']>=2020]\n",
    "df.tail()"
   ]
  },
  {
   "cell_type": "code",
   "execution_count": 69,
   "id": "91808c75-d251-41eb-bab5-915189f12200",
   "metadata": {},
   "outputs": [
    {
     "data": {
      "text/plain": [
       "Commit ID         0\n",
       "Date              0\n",
       "Author            0\n",
       "Commit Message    0\n",
       "File Changed      0\n",
       "Year              0\n",
       "Month             0\n",
       "dtype: int64"
      ]
     },
     "execution_count": 69,
     "metadata": {},
     "output_type": "execute_result"
    }
   ],
   "source": [
    "df.isnull().sum()"
   ]
  },
  {
   "cell_type": "code",
   "execution_count": 70,
   "id": "78eab5f0-bb66-4245-bb41-67bab6d164f0",
   "metadata": {},
   "outputs": [
    {
     "data": {
      "text/plain": [
       "0"
      ]
     },
     "execution_count": 70,
     "metadata": {},
     "output_type": "execute_result"
    }
   ],
   "source": [
    "df.duplicated().sum()"
   ]
  },
  {
   "cell_type": "markdown",
   "id": "80084128-06e9-4b98-b1c0-d55e63382667",
   "metadata": {},
   "source": [
    "## Tổng số lượng commits phân bố theo các tháng như thế nào?"
   ]
  },
  {
   "cell_type": "code",
   "execution_count": 71,
   "id": "9a02562f-1e63-4be7-9e1a-8882e4f34cfc",
   "metadata": {},
   "outputs": [
    {
     "data": {
      "text/plain": [
       "Text(0, 0.5, 'số lượng commits')"
      ]
     },
     "execution_count": 71,
     "metadata": {},
     "output_type": "execute_result"
    },
    {
     "data": {
      "image/png": "[encoded data removed]",
      "text/plain": [
       "<Figure size 900x500 with 1 Axes>"
      ]
     },
     "metadata": {},
     "output_type": "display_data"
    }
   ],
   "source": [
    "top_commit_month = df.groupby('Month').count()['Commit ID'].reset_index()\n",
    "top_commit_month.columns = ['Month', 'Number of commits']\n",
    "plt.figure(figsize=(9, 5))\n",
    "plt.bar(top_commit_month['Month'],top_commit_month['Number of commits'])\n",
    "plt.xticks(top_commit_month['Month']) \n",
    "plt.title('Phân bố lượng commits theo các tháng')\n",
    "plt.xlabel('tháng')\n",
    "plt.ylabel('số lượng commits')"
   ]
  },
  {
   "cell_type": "code",
   "execution_count": 72,
   "id": "feb32afe-0930-4fb2-9694-94d112b17782",
   "metadata": {},
   "outputs": [
    {
     "data": {
      "text/html": [
       "<div>\n",
       "<style scoped>\n",
       "    .dataframe tbody tr th:only-of-type {\n",
       "        vertical-align: middle;\n",
       "    }\n",
       "\n",
       "    .dataframe tbody tr th {\n",
       "        vertical-align: top;\n",
       "    }\n",
       "\n",
       "    .dataframe thead th {\n",
       "        text-align: right;\n",
       "    }\n",
       "</style>\n",
       "<table border=\"1\" class=\"dataframe\">\n",
       "  <thead>\n",
       "    <tr style=\"text-align: right;\">\n",
       "      <th></th>\n",
       "      <th>Year</th>\n",
       "      <th>Month</th>\n",
       "      <th>Commits</th>\n",
       "    </tr>\n",
       "  </thead>\n",
       "  <tbody>\n",
       "    <tr>\n",
       "      <th>0</th>\n",
       "      <td>2020</td>\n",
       "      <td>1</td>\n",
       "      <td>41</td>\n",
       "    </tr>\n",
       "    <tr>\n",
       "      <th>1</th>\n",
       "      <td>2020</td>\n",
       "      <td>2</td>\n",
       "      <td>46</td>\n",
       "    </tr>\n",
       "    <tr>\n",
       "      <th>2</th>\n",
       "      <td>2020</td>\n",
       "      <td>3</td>\n",
       "      <td>81</td>\n",
       "    </tr>\n",
       "    <tr>\n",
       "      <th>3</th>\n",
       "      <td>2020</td>\n",
       "      <td>4</td>\n",
       "      <td>232</td>\n",
       "    </tr>\n",
       "    <tr>\n",
       "      <th>4</th>\n",
       "      <td>2020</td>\n",
       "      <td>5</td>\n",
       "      <td>245</td>\n",
       "    </tr>\n",
       "  </tbody>\n",
       "</table>\n",
       "</div>"
      ],
      "text/plain": [
       "   Year  Month  Commits\n",
       "0  2020      1       41\n",
       "1  2020      2       46\n",
       "2  2020      3       81\n",
       "3  2020      4      232\n",
       "4  2020      5      245"
      ]
     },
     "execution_count": 72,
     "metadata": {},
     "output_type": "execute_result"
    }
   ],
   "source": [
    "commit_12month = df[['Year', 'Month', 'Commit ID']]\n",
    "commit_12month = commit_12month.groupby(['Year','Month']).count().reset_index()\n",
    "commit_12month.columns = ['Year', 'Month', 'Commits']\n",
    "commit_12month.head()"
   ]
  },
  {
   "cell_type": "code",
   "execution_count": 73,
   "id": "e56fe0d0-a26c-45e5-a024-22c7ebd6ad96",
   "metadata": {},
   "outputs": [
    {
     "data": {
      "text/plain": [
       "Text(0.5, 1.0, 'Biểu đồ thể hiện số lượng commit trong từng tháng của các năm')"
      ]
     },
     "execution_count": 73,
     "metadata": {},
     "output_type": "execute_result"
    },
    {
     "data": {
      "image/png": "[encoded data removed]",
      "text/plain": [
       "<Figure size 567.75x500 with 1 Axes>"
      ]
     },
     "metadata": {},
     "output_type": "display_data"
    }
   ],
   "source": [
    "sns.catplot(data=commit_12month, x ='Year', y ='Commits', hue ='Month', kind ='bar', legend ='full', palette=\"Paired\")\n",
    "plt.title('Biểu đồ thể hiện số lượng commit trong từng tháng của các năm')"
   ]
  },
  {
   "cell_type": "markdown",
   "id": "3d1a889f-1156-4be6-b630-3feefe748d53",
   "metadata": {},
   "source": [
    "## Những contributors nào đã có đóng góp trong 5 năm liên tiếp?"
   ]
  },
  {
   "cell_type": "code",
   "execution_count": 74,
   "id": "e44f7360-a552-40ea-9578-68f9f7483e83",
   "metadata": {},
   "outputs": [
    {
     "data": {
      "text/plain": [
       "199"
      ]
     },
     "execution_count": 74,
     "metadata": {},
     "output_type": "execute_result"
    }
   ],
   "source": [
    "# Number of contributors\n",
    "len(df.groupby('Author').count())"
   ]
  },
  {
   "cell_type": "code",
   "execution_count": 75,
   "id": "415eb2f9-28d4-4850-8425-48e259e8307d",
   "metadata": {},
   "outputs": [
    {
     "data": {
      "text/plain": [
       "Year  Author         \n",
       "2020  Alex Henrie         2\n",
       "      Alexey Stepanov     1\n",
       "      Ashwin Srinath      5\n",
       "      Ben McGinnes        2\n",
       "      Celelibi            4\n",
       "                         ..\n",
       "2024  da-woods           93\n",
       "      eewanco             2\n",
       "      gentlegiantJGC      1\n",
       "      samaingw            1\n",
       "      scoder              9\n",
       "Name: Commit ID, Length: 262, dtype: int64"
      ]
     },
     "execution_count": 75,
     "metadata": {},
     "output_type": "execute_result"
    }
   ],
   "source": [
    "# Group the number of commits by Year and Author\n",
    "author_of_year = df.groupby(['Year','Author']).count()['Commit ID']\n",
    "author_of_year"
   ]
  },
  {
   "cell_type": "code",
   "execution_count": 76,
   "id": "a945babe-fa16-4902-bbe0-eee97aa06a8b",
   "metadata": {},
   "outputs": [
    {
     "data": {
      "text/plain": [
       "Index(['Alexander Condello', 'Alexandra Pereira', 'Bluenix', 'Clément Robert',\n",
       "       'Denis Lukianov', 'Gonzalo Tornaría', 'Inada Naoki', 'Jason Fried',\n",
       "       'Jelle van der Waa', 'Kent Slaney', 'Kieran', 'Lawrence Mitchell',\n",
       "       'Lisandro Dalcin', 'Lysandros Nikolaou', 'Matti Picus', 'Matus Valo',\n",
       "       'Michael Man', 'Nathan Goldbaum', 'Patrick Kunzmann', 'Raffi Enficiaud',\n",
       "       'Somin An', 'Stefan Behnel', 'Stefano Rivera', 'Tong He',\n",
       "       'Victor Stinner', 'Vyas Ramasubramani', 'Xenia Lu', 'YoSTEALTH',\n",
       "       'da-woods', 'eewanco', 'gentlegiantJGC', 'samaingw', 'scoder'],\n",
       "      dtype='object', name='Author')"
      ]
     },
     "execution_count": 76,
     "metadata": {},
     "output_type": "execute_result"
    }
   ],
   "source": [
    "# List author of years\n",
    "list20 = author_of_year[2020].index\n",
    "list21 = author_of_year[2021].index\n",
    "list22 = author_of_year[2022].index\n",
    "list23 = author_of_year[2023].index\n",
    "list24 = author_of_year[2024].index\n",
    "list24"
   ]
  },
  {
   "cell_type": "code",
   "execution_count": 77,
   "id": "6acd4ec7-8e77-4605-9249-4615ed6cdacd",
   "metadata": {},
   "outputs": [
    {
     "data": {
      "text/plain": [
       "array(['Matti Picus', 'Stefan Behnel', 'da-woods', 'scoder'], dtype=object)"
      ]
     },
     "execution_count": 77,
     "metadata": {},
     "output_type": "execute_result"
    }
   ],
   "source": [
    "# Find authors who have contributed for 5 consecutive years\n",
    "res1 = np.intersect1d(list20, list21)\n",
    "res2 = np.intersect1d(res1, list22)\n",
    "res3 = np.intersect1d(res2, list23)\n",
    "author_of5y = np.intersect1d(res3, list24)\n",
    "author_of5y"
   ]
  },
  {
   "cell_type": "code",
   "execution_count": 78,
   "id": "0a133d5a-4c92-49bf-90aa-32a9a5f46d9d",
   "metadata": {},
   "outputs": [
    {
     "data": {
      "text/plain": [
       "Author\n",
       "Stefan Behnel      1854\n",
       "da-woods            588\n",
       "Matus Valo           97\n",
       "scoder               80\n",
       "Matti Picus          60\n",
       "Max Bachmann         37\n",
       "0dminnimda           29\n",
       "Robert Bradshaw      28\n",
       "Zackery Spytz        23\n",
       "Lisandro Dalcin      15\n",
       "Name: count, dtype: int64"
      ]
     },
     "execution_count": 78,
     "metadata": {},
     "output_type": "execute_result"
    }
   ],
   "source": [
    "# Top 10 authors with the most commits\n",
    "top10_author = df['Author'].value_counts()[:10]\n",
    "top10_author"
   ]
  },
  {
   "cell_type": "code",
   "execution_count": 79,
   "id": "cd9facab-b910-4a43-9310-c2b9d8c2c17d",
   "metadata": {},
   "outputs": [
    {
     "data": {
      "text/plain": [
       "Text(0, 0.5, 'contributor')"
      ]
     },
     "execution_count": 79,
     "metadata": {},
     "output_type": "execute_result"
    },
    {
     "data": {
      "image/png": "[encoded data removed]",
      "text/plain": [
       "<Figure size 900x500 with 1 Axes>"
      ]
     },
     "metadata": {},
     "output_type": "display_data"
    }
   ],
   "source": [
    "bar_colors = ['lightblue']*10\n",
    "i = 0\n",
    "for author in top10_author.index[::-1]:\n",
    "    if author in author_of5y:\n",
    "        bar_colors[i] = 'steelblue'\n",
    "    i += 1;\n",
    "    \n",
    "plt.figure(figsize=(9, 5))\n",
    "plt.barh(top10_author.index[::-1], top10_author[::-1], color= bar_colors, height = 0.8)\n",
    "colors = {'Contributors có commits trong 5 năm liên tiếp':'steelblue', 'Các contributors khác':'lightblue'}   \n",
    "labels = list(colors.keys())\n",
    "handles = [plt.Rectangle((0,0),1,1, color=colors[label]) for label in labels]\n",
    "plt.legend(handles, labels)\n",
    "plt.title('Top 10 contributors có lượng commits nhiều nhất từ năm 2020 - nửa đầu năm 2024')\n",
    "plt.xlabel('tổng số lượng commit')\n",
    "plt.ylabel('contributor')"
   ]
  },
  {
   "cell_type": "markdown",
   "id": "54f84cb9-bb5e-4150-b76f-1bc174ba04d1",
   "metadata": {},
   "source": [
    "### Liệu có phải Matus Valo đã ngừng đóng góp cho repo này hay không?"
   ]
  },
  {
   "cell_type": "code",
   "execution_count": 80,
   "id": "797064f3-1021-4807-be49-6d08806cdfc3",
   "metadata": {},
   "outputs": [
    {
     "data": {
      "text/html": [
       "<div>\n",
       "<style scoped>\n",
       "    .dataframe tbody tr th:only-of-type {\n",
       "        vertical-align: middle;\n",
       "    }\n",
       "\n",
       "    .dataframe tbody tr th {\n",
       "        vertical-align: top;\n",
       "    }\n",
       "\n",
       "    .dataframe thead th {\n",
       "        text-align: right;\n",
       "    }\n",
       "</style>\n",
       "<table border=\"1\" class=\"dataframe\">\n",
       "  <thead>\n",
       "    <tr style=\"text-align: right;\">\n",
       "      <th></th>\n",
       "      <th>Commit ID</th>\n",
       "      <th>Date</th>\n",
       "      <th>Author</th>\n",
       "      <th>Commit Message</th>\n",
       "      <th>File Changed</th>\n",
       "      <th>Month</th>\n",
       "    </tr>\n",
       "    <tr>\n",
       "      <th>Year</th>\n",
       "      <th></th>\n",
       "      <th></th>\n",
       "      <th></th>\n",
       "      <th></th>\n",
       "      <th></th>\n",
       "      <th></th>\n",
       "    </tr>\n",
       "  </thead>\n",
       "  <tbody>\n",
       "    <tr>\n",
       "      <th>2021</th>\n",
       "      <td>16</td>\n",
       "      <td>16</td>\n",
       "      <td>16</td>\n",
       "      <td>16</td>\n",
       "      <td>16</td>\n",
       "      <td>16</td>\n",
       "    </tr>\n",
       "    <tr>\n",
       "      <th>2022</th>\n",
       "      <td>29</td>\n",
       "      <td>29</td>\n",
       "      <td>29</td>\n",
       "      <td>29</td>\n",
       "      <td>29</td>\n",
       "      <td>29</td>\n",
       "    </tr>\n",
       "    <tr>\n",
       "      <th>2023</th>\n",
       "      <td>32</td>\n",
       "      <td>32</td>\n",
       "      <td>32</td>\n",
       "      <td>32</td>\n",
       "      <td>32</td>\n",
       "      <td>32</td>\n",
       "    </tr>\n",
       "    <tr>\n",
       "      <th>2024</th>\n",
       "      <td>20</td>\n",
       "      <td>20</td>\n",
       "      <td>20</td>\n",
       "      <td>20</td>\n",
       "      <td>20</td>\n",
       "      <td>20</td>\n",
       "    </tr>\n",
       "  </tbody>\n",
       "</table>\n",
       "</div>"
      ],
      "text/plain": [
       "      Commit ID  Date  Author  Commit Message  File Changed  Month\n",
       "Year                                                              \n",
       "2021         16    16      16              16            16     16\n",
       "2022         29    29      29              29            29     29\n",
       "2023         32    32      32              32            32     32\n",
       "2024         20    20      20              20            20     20"
      ]
     },
     "execution_count": 80,
     "metadata": {},
     "output_type": "execute_result"
    }
   ],
   "source": [
    "df[df['Author'] == 'Matus Valo'].groupby('Year').count()"
   ]
  },
  {
   "cell_type": "markdown",
   "id": "11180fae-491d-4915-aadb-84d020bfb37b",
   "metadata": {},
   "source": [
    "## Có bao nhiêu commits được thực hiện bởi ít nhất 2 contributors, tăng hay giảm theo từng năm?"
   ]
  },
  {
   "cell_type": "code",
   "execution_count": 81,
   "id": "1af911f7-a3b5-4c37-9a1c-2534f51c4753",
   "metadata": {},
   "outputs": [
    {
     "data": {
      "text/plain": [
       "3198"
      ]
     },
     "execution_count": 81,
     "metadata": {},
     "output_type": "execute_result"
    }
   ],
   "source": [
    "# All the commits \n",
    "number_of_commits = df['Commit ID'].count()\n",
    "number_of_commits"
   ]
  },
  {
   "cell_type": "code",
   "execution_count": 82,
   "id": "008fff3f-1a72-4e9e-a0f5-a8bf9d3d5819",
   "metadata": {},
   "outputs": [
    {
     "data": {
      "text/plain": [
       "38"
      ]
     },
     "execution_count": 82,
     "metadata": {},
     "output_type": "execute_result"
    }
   ],
   "source": [
    "# Commits made by co-author\n",
    "co_authors = df[df['Commit Message'].str.contains('Co-authored-by')]\n",
    "co_authors['Commit ID'].count()"
   ]
  },
  {
   "cell_type": "code",
   "execution_count": 83,
   "id": "9876b277-96c3-47a2-892b-4576ed0b5ebc",
   "metadata": {},
   "outputs": [
    {
     "data": {
      "text/html": [
       "<div>\n",
       "<style scoped>\n",
       "    .dataframe tbody tr th:only-of-type {\n",
       "        vertical-align: middle;\n",
       "    }\n",
       "\n",
       "    .dataframe tbody tr th {\n",
       "        vertical-align: top;\n",
       "    }\n",
       "\n",
       "    .dataframe thead th {\n",
       "        text-align: right;\n",
       "    }\n",
       "</style>\n",
       "<table border=\"1\" class=\"dataframe\">\n",
       "  <thead>\n",
       "    <tr style=\"text-align: right;\">\n",
       "      <th></th>\n",
       "      <th>Year</th>\n",
       "      <th>Number of commits</th>\n",
       "    </tr>\n",
       "  </thead>\n",
       "  <tbody>\n",
       "    <tr>\n",
       "      <th>0</th>\n",
       "      <td>2020</td>\n",
       "      <td>2</td>\n",
       "    </tr>\n",
       "    <tr>\n",
       "      <th>1</th>\n",
       "      <td>2021</td>\n",
       "      <td>2</td>\n",
       "    </tr>\n",
       "    <tr>\n",
       "      <th>2</th>\n",
       "      <td>2022</td>\n",
       "      <td>4</td>\n",
       "    </tr>\n",
       "    <tr>\n",
       "      <th>3</th>\n",
       "      <td>2023</td>\n",
       "      <td>18</td>\n",
       "    </tr>\n",
       "    <tr>\n",
       "      <th>4</th>\n",
       "      <td>2024</td>\n",
       "      <td>12</td>\n",
       "    </tr>\n",
       "  </tbody>\n",
       "</table>\n",
       "</div>"
      ],
      "text/plain": [
       "   Year  Number of commits\n",
       "0  2020                  2\n",
       "1  2021                  2\n",
       "2  2022                  4\n",
       "3  2023                 18\n",
       "4  2024                 12"
      ]
     },
     "execution_count": 83,
     "metadata": {},
     "output_type": "execute_result"
    }
   ],
   "source": [
    "# Commits made by co-author grouped by year\n",
    "co_authors = co_authors.groupby('Year').count()['Commit ID'].reset_index()\n",
    "co_authors.columns = ['Year', 'Number of commits']\n",
    "co_authors"
   ]
  },
  {
   "cell_type": "markdown",
   "id": "1dd45282-6231-426f-a85f-66459f27815b",
   "metadata": {},
   "source": [
    "# Phân tích issues của repository"
   ]
  },
  {
   "cell_type": "markdown",
   "id": "a4960239-d06f-4039-a40c-4bb8f6956d0a",
   "metadata": {},
   "source": [
    "## Đọc và tiền xử lý dữ liệu"
   ]
  },
  {
   "cell_type": "code",
   "execution_count": 84,
   "id": "fb21f9d7-dc31-4cb6-8d0a-84a5f35e5d01",
   "metadata": {},
   "outputs": [
    {
     "data": {
      "text/html": [
       "<div>\n",
       "<style scoped>\n",
       "    .dataframe tbody tr th:only-of-type {\n",
       "        vertical-align: middle;\n",
       "    }\n",
       "\n",
       "    .dataframe tbody tr th {\n",
       "        vertical-align: top;\n",
       "    }\n",
       "\n",
       "    .dataframe thead th {\n",
       "        text-align: right;\n",
       "    }\n",
       "</style>\n",
       "<table border=\"1\" class=\"dataframe\">\n",
       "  <thead>\n",
       "    <tr style=\"text-align: right;\">\n",
       "      <th></th>\n",
       "      <th>Issue Number</th>\n",
       "      <th>Title</th>\n",
       "      <th>State</th>\n",
       "      <th>Comments</th>\n",
       "      <th>Created At</th>\n",
       "      <th>Closed At</th>\n",
       "    </tr>\n",
       "  </thead>\n",
       "  <tbody>\n",
       "    <tr>\n",
       "      <th>0</th>\n",
       "      <td>6246</td>\n",
       "      <td>Copy py_limited_api attribute of setuptools ex...</td>\n",
       "      <td>open</td>\n",
       "      <td>0</td>\n",
       "      <td>2024-06-13</td>\n",
       "      <td>NaN</td>\n",
       "    </tr>\n",
       "    <tr>\n",
       "      <th>1</th>\n",
       "      <td>6245</td>\n",
       "      <td>[BUG] Issue after upgrading to Cython 3.0.10</td>\n",
       "      <td>open</td>\n",
       "      <td>2</td>\n",
       "      <td>2024-06-13</td>\n",
       "      <td>NaN</td>\n",
       "    </tr>\n",
       "    <tr>\n",
       "      <th>2</th>\n",
       "      <td>6244</td>\n",
       "      <td>[BUG] Use of `Py_LIMITED_API` sometimes result...</td>\n",
       "      <td>closed</td>\n",
       "      <td>3</td>\n",
       "      <td>2024-06-12</td>\n",
       "      <td>2024-06-12</td>\n",
       "    </tr>\n",
       "    <tr>\n",
       "      <th>3</th>\n",
       "      <td>6243</td>\n",
       "      <td>Add option to silence IF deprecation warning</td>\n",
       "      <td>open</td>\n",
       "      <td>1</td>\n",
       "      <td>2024-06-12</td>\n",
       "      <td>NaN</td>\n",
       "    </tr>\n",
       "    <tr>\n",
       "      <th>4</th>\n",
       "      <td>6242</td>\n",
       "      <td>Add freethreading_compatible directive to set ...</td>\n",
       "      <td>open</td>\n",
       "      <td>1</td>\n",
       "      <td>2024-06-12</td>\n",
       "      <td>NaN</td>\n",
       "    </tr>\n",
       "  </tbody>\n",
       "</table>\n",
       "</div>"
      ],
      "text/plain": [
       "   Issue Number                                              Title   State  \\\n",
       "0          6246  Copy py_limited_api attribute of setuptools ex...    open   \n",
       "1          6245       [BUG] Issue after upgrading to Cython 3.0.10    open   \n",
       "2          6244  [BUG] Use of `Py_LIMITED_API` sometimes result...  closed   \n",
       "3          6243       Add option to silence IF deprecation warning    open   \n",
       "4          6242  Add freethreading_compatible directive to set ...    open   \n",
       "\n",
       "   Comments  Created At   Closed At  \n",
       "0         0  2024-06-13         NaN  \n",
       "1         2  2024-06-13         NaN  \n",
       "2         3  2024-06-12  2024-06-12  \n",
       "3         1  2024-06-12         NaN  \n",
       "4         1  2024-06-12         NaN  "
      ]
     },
     "execution_count": 84,
     "metadata": {},
     "output_type": "execute_result"
    }
   ],
   "source": [
    "issue_df = pd.read_csv('issues_data.csv')\n",
    "issue_df.head()"
   ]
  },
  {
   "cell_type": "code",
   "execution_count": 85,
   "id": "51ce2a5b-d344-48b4-8f3d-056660a53413",
   "metadata": {},
   "outputs": [
    {
     "data": {
      "text/plain": [
       "Issue Number       0\n",
       "Title              0\n",
       "State              0\n",
       "Comments           0\n",
       "Created At         0\n",
       "Closed At       1325\n",
       "dtype: int64"
      ]
     },
     "execution_count": 85,
     "metadata": {},
     "output_type": "execute_result"
    }
   ],
   "source": [
    "issue_df.isnull().sum()"
   ]
  },
  {
   "cell_type": "code",
   "execution_count": 86,
   "id": "b9b841ae-3a24-4ecd-bfdd-ffc9607ba980",
   "metadata": {},
   "outputs": [
    {
     "data": {
      "text/plain": [
       "0"
      ]
     },
     "execution_count": 86,
     "metadata": {},
     "output_type": "execute_result"
    }
   ],
   "source": [
    "issue_df.duplicated().sum()"
   ]
  },
  {
   "cell_type": "code",
   "execution_count": 87,
   "id": "19e31b52-d8a2-4e9a-90c7-cd2cd8e60732",
   "metadata": {},
   "outputs": [
    {
     "data": {
      "text/html": [
       "<div>\n",
       "<style scoped>\n",
       "    .dataframe tbody tr th:only-of-type {\n",
       "        vertical-align: middle;\n",
       "    }\n",
       "\n",
       "    .dataframe tbody tr th {\n",
       "        vertical-align: top;\n",
       "    }\n",
       "\n",
       "    .dataframe thead th {\n",
       "        text-align: right;\n",
       "    }\n",
       "</style>\n",
       "<table border=\"1\" class=\"dataframe\">\n",
       "  <thead>\n",
       "    <tr style=\"text-align: right;\">\n",
       "      <th></th>\n",
       "      <th>Issue Number</th>\n",
       "      <th>Title</th>\n",
       "      <th>State</th>\n",
       "      <th>Comments</th>\n",
       "      <th>Created At</th>\n",
       "      <th>Closed At</th>\n",
       "      <th>Time to closed</th>\n",
       "      <th>Created Year</th>\n",
       "    </tr>\n",
       "  </thead>\n",
       "  <tbody>\n",
       "    <tr>\n",
       "      <th>6219</th>\n",
       "      <td>562</td>\n",
       "      <td>no mangling of double underscore names in class</td>\n",
       "      <td>closed</td>\n",
       "      <td>10</td>\n",
       "      <td>2008-05-06</td>\n",
       "      <td>2011-09-10</td>\n",
       "      <td>1222 days</td>\n",
       "      <td>2008</td>\n",
       "    </tr>\n",
       "    <tr>\n",
       "      <th>6220</th>\n",
       "      <td>561</td>\n",
       "      <td>from package cimport module doesn't work</td>\n",
       "      <td>closed</td>\n",
       "      <td>6</td>\n",
       "      <td>2008-05-06</td>\n",
       "      <td>2009-04-02</td>\n",
       "      <td>331 days</td>\n",
       "      <td>2008</td>\n",
       "    </tr>\n",
       "    <tr>\n",
       "      <th>6221</th>\n",
       "      <td>560</td>\n",
       "      <td>Cython calls ExtType.__init__() as Python func...</td>\n",
       "      <td>open</td>\n",
       "      <td>6</td>\n",
       "      <td>2008-05-06</td>\n",
       "      <td>NaT</td>\n",
       "      <td>NaT</td>\n",
       "      <td>2008</td>\n",
       "    </tr>\n",
       "    <tr>\n",
       "      <th>6222</th>\n",
       "      <td>559</td>\n",
       "      <td>Cython needs better support for API documentation</td>\n",
       "      <td>closed</td>\n",
       "      <td>10</td>\n",
       "      <td>2008-05-06</td>\n",
       "      <td>2008-09-24</td>\n",
       "      <td>141 days</td>\n",
       "      <td>2008</td>\n",
       "    </tr>\n",
       "    <tr>\n",
       "      <th>6223</th>\n",
       "      <td>558</td>\n",
       "      <td>Several inplace operators not defined</td>\n",
       "      <td>closed</td>\n",
       "      <td>2</td>\n",
       "      <td>2008-05-05</td>\n",
       "      <td>2008-06-07</td>\n",
       "      <td>33 days</td>\n",
       "      <td>2008</td>\n",
       "    </tr>\n",
       "  </tbody>\n",
       "</table>\n",
       "</div>"
      ],
      "text/plain": [
       "      Issue Number                                              Title   State  \\\n",
       "6219           562    no mangling of double underscore names in class  closed   \n",
       "6220           561           from package cimport module doesn't work  closed   \n",
       "6221           560  Cython calls ExtType.__init__() as Python func...    open   \n",
       "6222           559  Cython needs better support for API documentation  closed   \n",
       "6223           558              Several inplace operators not defined  closed   \n",
       "\n",
       "      Comments Created At  Closed At Time to closed  Created Year  \n",
       "6219        10 2008-05-06 2011-09-10      1222 days          2008  \n",
       "6220         6 2008-05-06 2009-04-02       331 days          2008  \n",
       "6221         6 2008-05-06        NaT            NaT          2008  \n",
       "6222        10 2008-05-06 2008-09-24       141 days          2008  \n",
       "6223         2 2008-05-05 2008-06-07        33 days          2008  "
      ]
     },
     "execution_count": 87,
     "metadata": {},
     "output_type": "execute_result"
    }
   ],
   "source": [
    "# Time to close an issue\n",
    "issue_df['Created At'] = pd.to_datetime(issue_df['Created At'])\n",
    "issue_df['Closed At'] = pd.to_datetime(issue_df['Closed At'])\n",
    "issue_df['Time to closed'] = issue_df['Closed At'] - issue_df['Created At']\n",
    "issue_df['Created Year'] = issue_df['Created At'].dt.year\n",
    "issue_df.tail()\n"
   ]
  },
  {
   "cell_type": "markdown",
   "id": "83a7618c-0e3e-4bfe-bf30-027ec9b9a5db",
   "metadata": {},
   "source": [
    "## Tỉ lệ issue đang đóng và mở của repository"
   ]
  },
  {
   "cell_type": "code",
   "execution_count": 88,
   "id": "cd331e9f-6f77-4673-aaf3-a1e53cb96cee",
   "metadata": {},
   "outputs": [
    {
     "data": {
      "text/plain": [
       "(6224, 8)"
      ]
     },
     "execution_count": 88,
     "metadata": {},
     "output_type": "execute_result"
    }
   ],
   "source": [
    "issue_df.shape"
   ]
  },
  {
   "cell_type": "code",
   "execution_count": 89,
   "id": "22972e9b-d8ec-4592-b2ff-181111501c8d",
   "metadata": {},
   "outputs": [
    {
     "data": {
      "text/plain": [
       "[78.71, 21.29]"
      ]
     },
     "execution_count": 89,
     "metadata": {},
     "output_type": "execute_result"
    }
   ],
   "source": [
    "numOfClosed = issue_df[issue_df['State'] == 'closed'].count()['Title']\n",
    "percentOfClosed = round(numOfClosed/(issue_df.shape[0])*100, 2)\n",
    "percentOfOpen = round(100 - percentOfClosed, 2)\n",
    "[percentOfClosed, percentOfOpen]"
   ]
  },
  {
   "cell_type": "code",
   "execution_count": 90,
   "id": "515d5652-1137-46a6-b40d-e0060801a322",
   "metadata": {},
   "outputs": [
    {
     "data": {
      "text/plain": [
       "Text(0.5, 1.0, 'Tỉ lệ issue đã đóng và đang mở của repo từ trước đến nay')"
      ]
     },
     "execution_count": 90,
     "metadata": {},
     "output_type": "execute_result"
    },
    {
     "data": {
      "image/png": "[encoded data removed]",
      "text/plain": [
       "<Figure size 640x480 with 1 Axes>"
      ]
     },
     "metadata": {},
     "output_type": "display_data"
    }
   ],
   "source": [
    "plt.pie([percentOfClosed, percentOfOpen], labels = ['Closed' , 'Open'], colors= ['steelblue', 'lightblue'], autopct='%1.2f%%')\n",
    "plt.title('Tỉ lệ issue đã đóng và đang mở của repo từ trước đến nay')"
   ]
  },
  {
   "cell_type": "markdown",
   "id": "e1ba0189-eb48-4f17-8472-e82e40141dbd",
   "metadata": {},
   "source": [
    "## Mối liên hệ giữa năm issue được tạo ra và khoảng thời gian để 1 issue được giải quyết"
   ]
  },
  {
   "cell_type": "code",
   "execution_count": 91,
   "id": "139a285a-13f0-4f31-b538-ae6a2611316e",
   "metadata": {},
   "outputs": [
    {
     "data": {
      "text/html": [
       "<div>\n",
       "<style scoped>\n",
       "    .dataframe tbody tr th:only-of-type {\n",
       "        vertical-align: middle;\n",
       "    }\n",
       "\n",
       "    .dataframe tbody tr th {\n",
       "        vertical-align: top;\n",
       "    }\n",
       "\n",
       "    .dataframe thead th {\n",
       "        text-align: right;\n",
       "    }\n",
       "</style>\n",
       "<table border=\"1\" class=\"dataframe\">\n",
       "  <thead>\n",
       "    <tr style=\"text-align: right;\">\n",
       "      <th></th>\n",
       "      <th>Issue Number</th>\n",
       "      <th>Title</th>\n",
       "      <th>State</th>\n",
       "      <th>Comments</th>\n",
       "      <th>Created At</th>\n",
       "      <th>Closed At</th>\n",
       "      <th>Time to closed</th>\n",
       "      <th>Created Year</th>\n",
       "    </tr>\n",
       "  </thead>\n",
       "  <tbody>\n",
       "    <tr>\n",
       "      <th>2</th>\n",
       "      <td>6244</td>\n",
       "      <td>[BUG] Use of `Py_LIMITED_API` sometimes result...</td>\n",
       "      <td>closed</td>\n",
       "      <td>3</td>\n",
       "      <td>2024-06-12</td>\n",
       "      <td>2024-06-12</td>\n",
       "      <td>0 days</td>\n",
       "      <td>2024</td>\n",
       "    </tr>\n",
       "    <tr>\n",
       "      <th>4968</th>\n",
       "      <td>404</td>\n",
       "      <td>Change temp type used for buffer indexing to s...</td>\n",
       "      <td>closed</td>\n",
       "      <td>7</td>\n",
       "      <td>2015-06-28</td>\n",
       "      <td>2015-06-28</td>\n",
       "      <td>0 days</td>\n",
       "      <td>2015</td>\n",
       "    </tr>\n",
       "    <tr>\n",
       "      <th>4972</th>\n",
       "      <td>401</td>\n",
       "      <td>make __name__ of Compiler.Scanning.Method acce...</td>\n",
       "      <td>closed</td>\n",
       "      <td>1</td>\n",
       "      <td>2015-06-23</td>\n",
       "      <td>2015-06-23</td>\n",
       "      <td>0 days</td>\n",
       "      <td>2015</td>\n",
       "    </tr>\n",
       "    <tr>\n",
       "      <th>2133</th>\n",
       "      <td>4102</td>\n",
       "      <td>Fix optimised_pow2_inplace() on Python 3.10</td>\n",
       "      <td>closed</td>\n",
       "      <td>2</td>\n",
       "      <td>2021-04-07</td>\n",
       "      <td>2021-04-07</td>\n",
       "      <td>0 days</td>\n",
       "      <td>2021</td>\n",
       "    </tr>\n",
       "    <tr>\n",
       "      <th>2131</th>\n",
       "      <td>4104</td>\n",
       "      <td>Only #define PY_SSIZE_T_CLEAN if it is not alr...</td>\n",
       "      <td>closed</td>\n",
       "      <td>0</td>\n",
       "      <td>2021-04-08</td>\n",
       "      <td>2021-04-08</td>\n",
       "      <td>0 days</td>\n",
       "      <td>2021</td>\n",
       "    </tr>\n",
       "    <tr>\n",
       "      <th>...</th>\n",
       "      <td>...</td>\n",
       "      <td>...</td>\n",
       "      <td>...</td>\n",
       "      <td>...</td>\n",
       "      <td>...</td>\n",
       "      <td>...</td>\n",
       "      <td>...</td>\n",
       "      <td>...</td>\n",
       "    </tr>\n",
       "    <tr>\n",
       "      <th>6090</th>\n",
       "      <td>694</td>\n",
       "      <td>cpdef method w/ unused buffer causes compilati...</td>\n",
       "      <td>closed</td>\n",
       "      <td>2</td>\n",
       "      <td>2008-11-25</td>\n",
       "      <td>2021-04-18</td>\n",
       "      <td>4527 days</td>\n",
       "      <td>2008</td>\n",
       "    </tr>\n",
       "    <tr>\n",
       "      <th>5903</th>\n",
       "      <td>881</td>\n",
       "      <td>Test suite for pyximport</td>\n",
       "      <td>closed</td>\n",
       "      <td>1</td>\n",
       "      <td>2009-05-26</td>\n",
       "      <td>2022-02-02</td>\n",
       "      <td>4635 days</td>\n",
       "      <td>2009</td>\n",
       "    </tr>\n",
       "    <tr>\n",
       "      <th>6181</th>\n",
       "      <td>600</td>\n",
       "      <td>Mysterious error with conflicting types</td>\n",
       "      <td>closed</td>\n",
       "      <td>5</td>\n",
       "      <td>2008-08-10</td>\n",
       "      <td>2022-02-25</td>\n",
       "      <td>4947 days</td>\n",
       "      <td>2008</td>\n",
       "    </tr>\n",
       "    <tr>\n",
       "      <th>6197</th>\n",
       "      <td>584</td>\n",
       "      <td>inspection of compilation namespace for IF/ELI...</td>\n",
       "      <td>closed</td>\n",
       "      <td>2</td>\n",
       "      <td>2008-07-19</td>\n",
       "      <td>2022-03-25</td>\n",
       "      <td>4997 days</td>\n",
       "      <td>2008</td>\n",
       "    </tr>\n",
       "    <tr>\n",
       "      <th>6208</th>\n",
       "      <td>573</td>\n",
       "      <td>IF clauses inside definitions</td>\n",
       "      <td>closed</td>\n",
       "      <td>5</td>\n",
       "      <td>2008-06-05</td>\n",
       "      <td>2022-03-25</td>\n",
       "      <td>5041 days</td>\n",
       "      <td>2008</td>\n",
       "    </tr>\n",
       "  </tbody>\n",
       "</table>\n",
       "<p>4899 rows × 8 columns</p>\n",
       "</div>"
      ],
      "text/plain": [
       "      Issue Number                                              Title   State  \\\n",
       "2             6244  [BUG] Use of `Py_LIMITED_API` sometimes result...  closed   \n",
       "4968           404  Change temp type used for buffer indexing to s...  closed   \n",
       "4972           401  make __name__ of Compiler.Scanning.Method acce...  closed   \n",
       "2133          4102        Fix optimised_pow2_inplace() on Python 3.10  closed   \n",
       "2131          4104  Only #define PY_SSIZE_T_CLEAN if it is not alr...  closed   \n",
       "...            ...                                                ...     ...   \n",
       "6090           694  cpdef method w/ unused buffer causes compilati...  closed   \n",
       "5903           881                           Test suite for pyximport  closed   \n",
       "6181           600            Mysterious error with conflicting types  closed   \n",
       "6197           584  inspection of compilation namespace for IF/ELI...  closed   \n",
       "6208           573                      IF clauses inside definitions  closed   \n",
       "\n",
       "      Comments Created At  Closed At Time to closed  Created Year  \n",
       "2            3 2024-06-12 2024-06-12         0 days          2024  \n",
       "4968         7 2015-06-28 2015-06-28         0 days          2015  \n",
       "4972         1 2015-06-23 2015-06-23         0 days          2015  \n",
       "2133         2 2021-04-07 2021-04-07         0 days          2021  \n",
       "2131         0 2021-04-08 2021-04-08         0 days          2021  \n",
       "...        ...        ...        ...            ...           ...  \n",
       "6090         2 2008-11-25 2021-04-18      4527 days          2008  \n",
       "5903         1 2009-05-26 2022-02-02      4635 days          2009  \n",
       "6181         5 2008-08-10 2022-02-25      4947 days          2008  \n",
       "6197         2 2008-07-19 2022-03-25      4997 days          2008  \n",
       "6208         5 2008-06-05 2022-03-25      5041 days          2008  \n",
       "\n",
       "[4899 rows x 8 columns]"
      ]
     },
     "execution_count": 91,
     "metadata": {},
     "output_type": "execute_result"
    }
   ],
   "source": [
    "closed_df = issue_df[issue_df['State'] == 'closed']\n",
    "closed_df.sort_values('Time to closed')"
   ]
  },
  {
   "cell_type": "code",
   "execution_count": 92,
   "id": "95474599-37ed-451c-ad8f-f14b4a9c0653",
   "metadata": {},
   "outputs": [
    {
     "data": {
      "text/plain": [
       "Text(0, 0.5, 'số ngày để giải quyết')"
      ]
     },
     "execution_count": 92,
     "metadata": {},
     "output_type": "execute_result"
    },
    {
     "data": {
      "image/png": "[encoded data removed]",
      "text/plain": [
       "<Figure size 1000x500 with 1 Axes>"
      ]
     },
     "metadata": {},
     "output_type": "display_data"
    }
   ],
   "source": [
    "plt.figure(figsize=(10, 5))\n",
    "plt.scatter(closed_df['Created Year'], closed_df['Time to closed'].dt.days)\n",
    "plt.title('Mối liên hệ giữa năm issue được tạo ra và khoảng thời gian để 1 issue được giải quyết')\n",
    "plt.xlabel('năm được tạo ra')\n",
    "plt.ylabel('số ngày để giải quyết')"
   ]
  },
  {
   "cell_type": "markdown",
   "id": "8146e8c6-8ce4-412a-90bc-06823fa8a628",
   "metadata": {},
   "source": [
    "## Liên hệ giữa commit và issue"
   ]
  },
  {
   "cell_type": "code",
   "execution_count": 93,
   "id": "b3342673-c714-4380-8eca-22c20c0b2dfd",
   "metadata": {},
   "outputs": [
    {
     "data": {
      "text/html": [
       "<div>\n",
       "<style scoped>\n",
       "    .dataframe tbody tr th:only-of-type {\n",
       "        vertical-align: middle;\n",
       "    }\n",
       "\n",
       "    .dataframe tbody tr th {\n",
       "        vertical-align: top;\n",
       "    }\n",
       "\n",
       "    .dataframe thead th {\n",
       "        text-align: right;\n",
       "    }\n",
       "</style>\n",
       "<table border=\"1\" class=\"dataframe\">\n",
       "  <thead>\n",
       "    <tr style=\"text-align: right;\">\n",
       "      <th></th>\n",
       "      <th>Year</th>\n",
       "      <th>Number of issues</th>\n",
       "    </tr>\n",
       "  </thead>\n",
       "  <tbody>\n",
       "    <tr>\n",
       "      <th>0</th>\n",
       "      <td>2020</td>\n",
       "      <td>664</td>\n",
       "    </tr>\n",
       "    <tr>\n",
       "      <th>1</th>\n",
       "      <td>2021</td>\n",
       "      <td>589</td>\n",
       "    </tr>\n",
       "    <tr>\n",
       "      <th>2</th>\n",
       "      <td>2022</td>\n",
       "      <td>633</td>\n",
       "    </tr>\n",
       "    <tr>\n",
       "      <th>3</th>\n",
       "      <td>2023</td>\n",
       "      <td>739</td>\n",
       "    </tr>\n",
       "    <tr>\n",
       "      <th>4</th>\n",
       "      <td>2024</td>\n",
       "      <td>314</td>\n",
       "    </tr>\n",
       "  </tbody>\n",
       "</table>\n",
       "</div>"
      ],
      "text/plain": [
       "   Year  Number of issues\n",
       "0  2020               664\n",
       "1  2021               589\n",
       "2  2022               633\n",
       "3  2023               739\n",
       "4  2024               314"
      ]
     },
     "execution_count": 93,
     "metadata": {},
     "output_type": "execute_result"
    }
   ],
   "source": [
    "issue_df['Created Month'] = issue_df['Created At'].dt.month\n",
    "# Issues opend from 2020 to now\n",
    "issue20_df =  issue_df[issue_df['Created Year'] >= 2020]\n",
    "issue20_df = issue20_df.groupby(['Created Year']).count()['Issue Number'].reset_index()\n",
    "issue20_df.columns = ['Year', 'Number of issues']\n",
    "issue20_df.head()"
   ]
  },
  {
   "cell_type": "code",
   "execution_count": 94,
   "id": "32c66ea5-6b1f-45ee-b4d9-68cc3a0e4df5",
   "metadata": {},
   "outputs": [
    {
     "data": {
      "text/html": [
       "<div>\n",
       "<style scoped>\n",
       "    .dataframe tbody tr th:only-of-type {\n",
       "        vertical-align: middle;\n",
       "    }\n",
       "\n",
       "    .dataframe tbody tr th {\n",
       "        vertical-align: top;\n",
       "    }\n",
       "\n",
       "    .dataframe thead th {\n",
       "        text-align: right;\n",
       "    }\n",
       "</style>\n",
       "<table border=\"1\" class=\"dataframe\">\n",
       "  <thead>\n",
       "    <tr style=\"text-align: right;\">\n",
       "      <th></th>\n",
       "      <th>Year</th>\n",
       "      <th>Number of commits</th>\n",
       "    </tr>\n",
       "  </thead>\n",
       "  <tbody>\n",
       "    <tr>\n",
       "      <th>0</th>\n",
       "      <td>2020</td>\n",
       "      <td>996</td>\n",
       "    </tr>\n",
       "    <tr>\n",
       "      <th>1</th>\n",
       "      <td>2021</td>\n",
       "      <td>579</td>\n",
       "    </tr>\n",
       "    <tr>\n",
       "      <th>2</th>\n",
       "      <td>2022</td>\n",
       "      <td>577</td>\n",
       "    </tr>\n",
       "    <tr>\n",
       "      <th>3</th>\n",
       "      <td>2023</td>\n",
       "      <td>741</td>\n",
       "    </tr>\n",
       "    <tr>\n",
       "      <th>4</th>\n",
       "      <td>2024</td>\n",
       "      <td>305</td>\n",
       "    </tr>\n",
       "  </tbody>\n",
       "</table>\n",
       "</div>"
      ],
      "text/plain": [
       "   Year  Number of commits\n",
       "0  2020                996\n",
       "1  2021                579\n",
       "2  2022                577\n",
       "3  2023                741\n",
       "4  2024                305"
      ]
     },
     "execution_count": 94,
     "metadata": {},
     "output_type": "execute_result"
    }
   ],
   "source": [
    "commit_df = df.groupby(['Year']).count()['Commit ID'].reset_index()\n",
    "commit_df.columns = ['Year', 'Number of commits']\n",
    "commit_df"
   ]
  },
  {
   "cell_type": "code",
   "execution_count": 95,
   "id": "26a14029-cf29-4fcd-9e9e-04e8552fd6ca",
   "metadata": {},
   "outputs": [
    {
     "data": {
      "text/plain": [
       "Text(0.5, 1.0, 'Tổng số lượng commit và issue theo từng năm từ 2020 - nửa đầu 2024')"
      ]
     },
     "execution_count": 95,
     "metadata": {},
     "output_type": "execute_result"
    },
    {
     "data": {
      "image/png": "[encoded data removed]",
      "text/plain": [
       "<Figure size 900x500 with 1 Axes>"
      ]
     },
     "metadata": {},
     "output_type": "display_data"
    }
   ],
   "source": [
    "x_year = ['2020','2021','2022','2023','2024']\n",
    "colors = {'commits':'tab:blue', 'issues':'tab:orange'}   \n",
    "labels = list(colors.keys())\n",
    "handles = [plt.Rectangle((0,0),1,1, color=colors[label]) for label in labels]\n",
    "plt.figure(figsize=(9, 5))\n",
    "plt.plot(x_year,commit_df, color = 'tab:blue')\n",
    "plt.plot(x_year,issue20_df, color = 'tab:orange')\n",
    "plt.ylim(0,1100)\n",
    "plt.legend(handles, labels)\n",
    "plt.xlabel('năm')\n",
    "plt.ylabel('số lượng')\n",
    "plt.title('Tổng số lượng commit và issue theo từng năm từ 2020 - nửa đầu 2024')"
   ]
  },
  {
   "cell_type": "code",
   "execution_count": null,
   "id": "0f7fc9c0-5008-4df0-bcfb-747c8c4c8e6d",
   "metadata": {},
   "outputs": [],
   "source": []
  }
 ],
 "metadata": {
  "kernelspec": {
   "display_name": "Python 3 (ipykernel)",
   "language": "python",
   "name": "python3"
  },
  "language_info": {
   "codemirror_mode": {
    "name": "ipython",
    "version": 3
   },
   "file_extension": ".py",
   "mimetype": "text/x-python",
   "name": "python",
   "nbconvert_exporter": "python",
   "pygments_lexer": "ipython3",
   "version": "3.12.0"
  }
 },
 "nbformat": 4,
 "nbformat_minor": 5
}
